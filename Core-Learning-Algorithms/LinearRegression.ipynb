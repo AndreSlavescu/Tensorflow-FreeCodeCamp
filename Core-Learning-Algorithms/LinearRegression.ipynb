{
  "nbformat": 4,
  "nbformat_minor": 0,
  "metadata": {
    "colab": {
      "name": "LinearRegression.ipynb",
      "provenance": [],
      "collapsed_sections": [],
      "authorship_tag": "ABX9TyMZMGgjHv+2oWgumut4RExs",
      "include_colab_link": true
    },
    "kernelspec": {
      "name": "python3",
      "display_name": "Python 3"
    },
    "language_info": {
      "name": "python"
    }
  },
  "cells": [
    {
      "cell_type": "markdown",
      "metadata": {
        "id": "view-in-github",
        "colab_type": "text"
      },
      "source": [
        "<a href=\"https://colab.research.google.com/github/AndreSlavescu/Tensorflow-FreeCodeCamp/blob/main/Core-Learning-Algorithms/LinearRegression.ipynb\" target=\"_parent\"><img src=\"https://colab.research.google.com/assets/colab-badge.svg\" alt=\"Open In Colab\"/></a>"
      ]
    },
    {
      "cell_type": "markdown",
      "metadata": {
        "id": "h-jqwNlcnn5p"
      },
      "source": [
        "#Setup and Imports\n"
      ]
    },
    {
      "cell_type": "code",
      "metadata": {
        "id": "M2C5Ubyhj6P3"
      },
      "source": [
        "!pip install -q sklearn"
      ],
      "execution_count": 1,
      "outputs": []
    },
    {
      "cell_type": "code",
      "metadata": {
        "id": "yfxxbB_OmcXo"
      },
      "source": [
        "#line only required for notebooks\n",
        "%tensorflow_version 2.x"
      ],
      "execution_count": 2,
      "outputs": []
    },
    {
      "cell_type": "code",
      "metadata": {
        "id": "FqeV0khHmhqu"
      },
      "source": [
        "from __future__ import division, absolute_import, print_function, unicode_literals\n",
        "\n",
        "import numpy as np\n",
        "import pandas as pd \n",
        "import matplotlib.pyplot as plt\n",
        "from IPython.display import clear_output\n",
        "from six.moves import urllib\n",
        "\n",
        "import tensorflow.compat.v2.feature_column as fc\n",
        "\n",
        "import tensorflow as tf"
      ],
      "execution_count": 12,
      "outputs": []
    },
    {
      "cell_type": "markdown",
      "metadata": {
        "id": "CkMy-1GIn1qL"
      },
      "source": [
        "#Data"
      ]
    },
    {
      "cell_type": "code",
      "metadata": {
        "id": "0ZekXk2JoAaK"
      },
      "source": [
        "#load in dataset\n",
        "dftrain = pd.read_csv(\"https://storage.googleapis.com/tf-datasets/titanic/train.csv\") #training data\n",
        "dfeval = pd.read_csv(\"https://storage.googleapis.com/tf-datasets/titanic/eval.csv\") #testing data\n",
        "# print(dftrain.head())\n",
        "y_train = dftrain.pop(\"survived\") #seperate classification data from input data by removing \"survived\" from the input dataset and storing it in the y_train variable\n",
        "y_eval = dfeval.pop(\"survived\")\n",
        "# print(dftrain.head(), y_train())\n",
        "# print(dftrain.loc[0], y_train.loc[0]) "
      ],
      "execution_count": null,
      "outputs": []
    },
    {
      "cell_type": "markdown",
      "metadata": {
        "id": "XLjO3LHdyaWs"
      },
      "source": [
        "###dftrain.head() shows first 5 items in the dataframe"
      ]
    },
    {
      "cell_type": "code",
      "metadata": {
        "id": "tFguA4NayTUG"
      },
      "source": [
        "dftrain.head()"
      ],
      "execution_count": null,
      "outputs": []
    },
    {
      "cell_type": "markdown",
      "metadata": {
        "id": "sPJ8Kkucyle-"
      },
      "source": [
        "###dftrain.describe() shows a statistical analysis of the data "
      ]
    },
    {
      "cell_type": "code",
      "metadata": {
        "id": "Tjq27-hyyWd4"
      },
      "source": [
        "dftrain.describe()"
      ],
      "execution_count": null,
      "outputs": []
    },
    {
      "cell_type": "markdown",
      "metadata": {
        "id": "l2oSTPDuy0uC"
      },
      "source": [
        "###dftrain.shape demonstrates shape of dataframe  "
      ]
    },
    {
      "cell_type": "code",
      "metadata": {
        "colab": {
          "base_uri": "https://localhost:8080/"
        },
        "id": "XRFi-TvQy000",
        "outputId": "216c955e-de7b-493b-a9b0-60f942811cc3"
      },
      "source": [
        "#(rows, columns)\n",
        "dftrain.shape"
      ],
      "execution_count": 23,
      "outputs": [
        {
          "output_type": "execute_result",
          "data": {
            "text/plain": [
              "(627, 9)"
            ]
          },
          "metadata": {
            "tags": []
          },
          "execution_count": 23
        }
      ]
    },
    {
      "cell_type": "markdown",
      "metadata": {
        "id": "piRU58Mvzy1V"
      },
      "source": [
        "#Data Graphs"
      ]
    },
    {
      "cell_type": "code",
      "metadata": {
        "id": "VM_1BFZWzRrt"
      },
      "source": [
        "#age distribution\n",
        "dftrain.age.hist(bins=\"20\")"
      ],
      "execution_count": null,
      "outputs": []
    },
    {
      "cell_type": "code",
      "metadata": {
        "id": "B_tTZQXCz9mJ"
      },
      "source": [
        "#male to female representation\n",
        "dftrain.sex.value_counts().plot(kind = \"barh\")"
      ],
      "execution_count": null,
      "outputs": []
    },
    {
      "cell_type": "code",
      "metadata": {
        "id": "G2ulEpMI0KKD"
      },
      "source": [
        "#boarding class\n",
        "dftrain[\"class\"].value_counts().plot(kind = \"barh\")"
      ],
      "execution_count": null,
      "outputs": []
    },
    {
      "cell_type": "code",
      "metadata": {
        "id": "FtMibzWC0RzV"
      },
      "source": [
        "#survival likelihood by sex \n",
        "pd.concat([dftrain, y_train], axis=1).groupby(\"sex\").survived.mean().plot(kind = \"barh\").set_xlabel(\"% survive\")"
      ],
      "execution_count": null,
      "outputs": []
    },
    {
      "cell_type": "markdown",
      "metadata": {
        "id": "2obXQh9T-QFM"
      },
      "source": [
        "#Training vs. Testing"
      ]
    },
    {
      "cell_type": "code",
      "metadata": {
        "id": "jliUssgN-ZU2"
      },
      "source": [
        "#testing data shape (rows, columns) -> used as reference to test model accuracy\n",
        "dfeval.shape"
      ],
      "execution_count": null,
      "outputs": []
    },
    {
      "cell_type": "markdown",
      "metadata": {
        "id": "O-W6r7MHBr-u"
      },
      "source": [
        "#Feature Columns"
      ]
    },
    {
      "cell_type": "code",
      "metadata": {
        "id": "IIBZ2sooBug0"
      },
      "source": [
        "CATEGORICAL_COLUMNS = [\"sex\", \"n_siblings_spouses\", \"parch\", \"class\", \"deck\", \"embark_town\", \"alone\"]\n",
        "NUMERIC_COLUMNS = [\"age\", \"fare\"]\n",
        "\n",
        "feature_columns = []\n",
        "\n",
        "for feature_name in CATEGORICAL_COLUMNS:\n",
        "  vocabulary = dftrain[feature_name].unique()\n",
        "  feature_columns.append(tf.feature_column.categorical_column_with_vocabulary_list(feature_name, vocabulary))\n",
        "\n",
        "for feature_name in NUMERIC_COLUMNS:\n",
        "  feature_columns.append(tf.feature_column.numeric_column(feature_name, dtype=tf.float32))\n",
        "\n",
        "# print(feature_columns)"
      ],
      "execution_count": null,
      "outputs": []
    },
    {
      "cell_type": "markdown",
      "metadata": {
        "id": "YvTopGzOGTt5"
      },
      "source": [
        "#Input Function"
      ]
    },
    {
      "cell_type": "code",
      "metadata": {
        "id": "bzm_QmVjGTVW"
      },
      "source": [
        "def make_input_fn(data_df, label_df, num_epochs = 10, shuffle = True, batch_size = 32):\n",
        "  def input_function(): #inner function that will be returned\n",
        "    ds = tf.data.Dataset.from_tensor_slices((dict(data_df), label_df)) #create tf.data.Dataset object with data and label\n",
        "    if shuffle:\n",
        "      ds = ds.shuffle(1000) #randomize the order of data\n",
        "    ds = ds.batch(batch_size).repeat(num_epochs) #split the dataset into batches of 32 and repeat the training process for number of epochs\n",
        "    return ds #return a batch of the dataset\n",
        "  return input_function #return a function object "
      ],
      "execution_count": 42,
      "outputs": []
    },
    {
      "cell_type": "code",
      "metadata": {
        "id": "XQljJ_XAK-C0"
      },
      "source": [
        "train_input_fn = make_input_fn(dftrain, y_train)\n",
        "eval_input_fn = make_input_fn(dfeval, y_eval, num_epochs=1, shuffle=False)"
      ],
      "execution_count": 43,
      "outputs": []
    },
    {
      "cell_type": "markdown",
      "metadata": {
        "id": "8LyVvxGvJHp1"
      },
      "source": [
        "#Designing the Model"
      ]
    },
    {
      "cell_type": "code",
      "metadata": {
        "id": "W3vCkdETJHUV"
      },
      "source": [
        "#use linear estimator to use the linear regression algorithm\n",
        "linear_est = tf.estimator.LinearClassifier(feature_columns=feature_columns)\n",
        "\n",
        "#create a linear estimator by passing feature_columns created earlier"
      ],
      "execution_count": null,
      "outputs": []
    },
    {
      "cell_type": "code",
      "metadata": {
        "id": "6PC4FtoUKCOj"
      },
      "source": [
        "linear_est.train(train_input_fn) #train the model\n",
        "result = linear_est.evaluate(eval_input_fn) #evaluates model metrics by testing on testing data"
      ],
      "execution_count": null,
      "outputs": []
    },
    {
      "cell_type": "code",
      "metadata": {
        "id": "1DVW8yHcKMxg"
      },
      "source": [
        "clear_output() #clear console output\n",
        "print(result[\"accuracy\"]) #result is a dictionary of stats about the model"
      ],
      "execution_count": null,
      "outputs": []
    },
    {
      "cell_type": "markdown",
      "metadata": {
        "id": "vtAwAwDeOCKW"
      },
      "source": [
        "###Model Predictions"
      ]
    },
    {
      "cell_type": "code",
      "metadata": {
        "id": "9JcQM7b8N-sm"
      },
      "source": [
        "result = list(linear_est.predict(eval_input_fn))\n",
        "for i in range(5): #loops through first 5 people\n",
        "  print(dftrain.loc[i])\n",
        "  output = result[i][\"probabilities\"][1]\n",
        "  if y_eval[i] == 1:\n",
        "    print(\"Survived\"+\" -> \"+f\"Probability of Survival: {output}\")\n",
        "  else:\n",
        "    print(\"Did not Survive\"+\"->\"+f\"Probability of Survival: {output}\")\n",
        "    "
      ],
      "execution_count": null,
      "outputs": []
    }
  ]
}