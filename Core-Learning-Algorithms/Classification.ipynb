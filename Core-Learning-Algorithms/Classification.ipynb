{
  "nbformat": 4,
  "nbformat_minor": 0,
  "metadata": {
    "colab": {
      "name": "Classification.ipynb",
      "provenance": [],
      "collapsed_sections": [],
      "authorship_tag": "ABX9TyOYS9xRroXwGQ9OL35M8HSk",
      "include_colab_link": true
    },
    "kernelspec": {
      "name": "python3",
      "display_name": "Python 3"
    },
    "language_info": {
      "name": "python"
    }
  },
  "cells": [
    {
      "cell_type": "markdown",
      "metadata": {
        "id": "view-in-github",
        "colab_type": "text"
      },
      "source": [
        "<a href=\"https://colab.research.google.com/github/AndreSlavescu/Tensorflow-FreeCodeCamp/blob/main/Core-Learning-Algorithms/Classification.ipynb\" target=\"_parent\"><img src=\"https://colab.research.google.com/assets/colab-badge.svg\" alt=\"Open In Colab\"/></a>"
      ]
    },
    {
      "cell_type": "markdown",
      "metadata": {
        "id": "h-jqwNlcnn5p"
      },
      "source": [
        "#Setup and Imports\n"
      ]
    },
    {
      "cell_type": "code",
      "metadata": {
        "id": "M2C5Ubyhj6P3"
      },
      "source": [
        "!pip install -q sklearn"
      ],
      "execution_count": 55,
      "outputs": []
    },
    {
      "cell_type": "code",
      "metadata": {
        "id": "yfxxbB_OmcXo"
      },
      "source": [
        "#line only required for notebooks\n",
        "%tensorflow_version 2.x"
      ],
      "execution_count": 56,
      "outputs": []
    },
    {
      "cell_type": "code",
      "metadata": {
        "id": "FqeV0khHmhqu"
      },
      "source": [
        "from __future__ import division, absolute_import, print_function, unicode_literals\n",
        "\n",
        "import tensorflow as tf\n",
        "\n",
        "import pandas as pd"
      ],
      "execution_count": 57,
      "outputs": []
    },
    {
      "cell_type": "markdown",
      "metadata": {
        "id": "CkMy-1GIn1qL"
      },
      "source": [
        "#Data"
      ]
    },
    {
      "cell_type": "code",
      "metadata": {
        "id": "_ckXe0bgEmoO"
      },
      "source": [
        "#Define constants for classification\n",
        "CSV_COLUMN_NAMES = [\"SepalLength\", \"SepalWidth\", \"PetalLength\", \"PetalWidth\", \"Species\"]\n",
        "SPECIES = [\"Setosa\", \"Versicolor\", 'Virginica']"
      ],
      "execution_count": 58,
      "outputs": []
    },
    {
      "cell_type": "code",
      "metadata": {
        "id": "0ZekXk2JoAaK"
      },
      "source": [
        "#Grab dataset with Keras to be read in a Pandas dataframe\n",
        "train_path = tf.keras.utils.get_file(\n",
        "    \"iris_training.csv\",\"https://storage.googleapis.com/download.tensorflow.org/data/iris_training.csv\") #training data\n",
        "test_path = tf.keras.utils.get_file(\n",
        "    \"iris_training.csv\",\"https://storage.googleapis.com/download.tensorflow.org/data/iris_training.csv\") #testing data\n",
        "\n",
        "train = pd.read_csv(train_path, names = CSV_COLUMN_NAMES, header = 0)\n",
        "test = pd.read_csv(test_path, names = CSV_COLUMN_NAMES, header = 0)"
      ],
      "execution_count": 59,
      "outputs": []
    },
    {
      "cell_type": "markdown",
      "metadata": {
        "id": "XLjO3LHdyaWs"
      },
      "source": [
        "###Peek into data"
      ]
    },
    {
      "cell_type": "code",
      "metadata": {
        "id": "tFguA4NayTUG",
        "colab": {
          "base_uri": "https://localhost:8080/",
          "height": 204
        },
        "outputId": "5e1f205e-4b31-4009-c2ec-64e00850be43"
      },
      "source": [
        "train.head()"
      ],
      "execution_count": 60,
      "outputs": [
        {
          "output_type": "execute_result",
          "data": {
            "text/html": [
              "<div>\n",
              "<style scoped>\n",
              "    .dataframe tbody tr th:only-of-type {\n",
              "        vertical-align: middle;\n",
              "    }\n",
              "\n",
              "    .dataframe tbody tr th {\n",
              "        vertical-align: top;\n",
              "    }\n",
              "\n",
              "    .dataframe thead th {\n",
              "        text-align: right;\n",
              "    }\n",
              "</style>\n",
              "<table border=\"1\" class=\"dataframe\">\n",
              "  <thead>\n",
              "    <tr style=\"text-align: right;\">\n",
              "      <th></th>\n",
              "      <th>SepalLength</th>\n",
              "      <th>SepalWidth</th>\n",
              "      <th>PetalLength</th>\n",
              "      <th>PetalWidth</th>\n",
              "      <th>Species</th>\n",
              "    </tr>\n",
              "  </thead>\n",
              "  <tbody>\n",
              "    <tr>\n",
              "      <th>0</th>\n",
              "      <td>6.4</td>\n",
              "      <td>2.8</td>\n",
              "      <td>5.6</td>\n",
              "      <td>2.2</td>\n",
              "      <td>2</td>\n",
              "    </tr>\n",
              "    <tr>\n",
              "      <th>1</th>\n",
              "      <td>5.0</td>\n",
              "      <td>2.3</td>\n",
              "      <td>3.3</td>\n",
              "      <td>1.0</td>\n",
              "      <td>1</td>\n",
              "    </tr>\n",
              "    <tr>\n",
              "      <th>2</th>\n",
              "      <td>4.9</td>\n",
              "      <td>2.5</td>\n",
              "      <td>4.5</td>\n",
              "      <td>1.7</td>\n",
              "      <td>2</td>\n",
              "    </tr>\n",
              "    <tr>\n",
              "      <th>3</th>\n",
              "      <td>4.9</td>\n",
              "      <td>3.1</td>\n",
              "      <td>1.5</td>\n",
              "      <td>0.1</td>\n",
              "      <td>0</td>\n",
              "    </tr>\n",
              "    <tr>\n",
              "      <th>4</th>\n",
              "      <td>5.7</td>\n",
              "      <td>3.8</td>\n",
              "      <td>1.7</td>\n",
              "      <td>0.3</td>\n",
              "      <td>0</td>\n",
              "    </tr>\n",
              "  </tbody>\n",
              "</table>\n",
              "</div>"
            ],
            "text/plain": [
              "   SepalLength  SepalWidth  PetalLength  PetalWidth  Species\n",
              "0          6.4         2.8          5.6         2.2        2\n",
              "1          5.0         2.3          3.3         1.0        1\n",
              "2          4.9         2.5          4.5         1.7        2\n",
              "3          4.9         3.1          1.5         0.1        0\n",
              "4          5.7         3.8          1.7         0.3        0"
            ]
          },
          "metadata": {
            "tags": []
          },
          "execution_count": 60
        }
      ]
    },
    {
      "cell_type": "markdown",
      "metadata": {
        "id": "cAFzEgsXKAJe"
      },
      "source": [
        "###Use \"species\" as label"
      ]
    },
    {
      "cell_type": "code",
      "metadata": {
        "id": "VGTS3e74KIOg"
      },
      "source": [
        "train_y = train.pop(\"Species\")\n",
        "test_y = test.pop(\"Species\")"
      ],
      "execution_count": 61,
      "outputs": []
    },
    {
      "cell_type": "code",
      "metadata": {
        "id": "Tjq27-hyyWd4",
        "colab": {
          "base_uri": "https://localhost:8080/"
        },
        "outputId": "cbd86af6-59ff-436e-c93b-b8623631350d"
      },
      "source": [
        "train.shape #120 entries with 4 features each"
      ],
      "execution_count": 62,
      "outputs": [
        {
          "output_type": "execute_result",
          "data": {
            "text/plain": [
              "(120, 4)"
            ]
          },
          "metadata": {
            "tags": []
          },
          "execution_count": 62
        }
      ]
    },
    {
      "cell_type": "markdown",
      "metadata": {
        "id": "YvTopGzOGTt5"
      },
      "source": [
        "#Input Function"
      ]
    },
    {
      "cell_type": "code",
      "metadata": {
        "id": "bzm_QmVjGTVW"
      },
      "source": [
        "def input_fn(features, labels, training = True, batch_size = 256):\n",
        "  #convert inputs to dataset\n",
        "  dataset = tf.data.Dataset.from_tensor_slices((dict(features), labels))\n",
        "\n",
        "  #shuffle and repeat for training \n",
        "  if training:\n",
        "    dataset = dataset.shuffle(1000).repeat()\n",
        "\n",
        "  return dataset.batch(batch_size) "
      ],
      "execution_count": 63,
      "outputs": []
    },
    {
      "cell_type": "markdown",
      "metadata": {
        "id": "AsEC3ReHR1vN"
      },
      "source": [
        "#Feature Columns"
      ]
    },
    {
      "cell_type": "code",
      "metadata": {
        "id": "lAb09gzkR3H6",
        "colab": {
          "base_uri": "https://localhost:8080/"
        },
        "outputId": "684eaf6c-76ca-49ac-ccfc-5423e7e57de4"
      },
      "source": [
        "my_feature_columns = []\n",
        "for key in train.keys():\n",
        "  my_feature_columns.append(tf.feature_column.numeric_column(key=key))\n",
        "print(my_feature_columns)"
      ],
      "execution_count": 64,
      "outputs": [
        {
          "output_type": "stream",
          "text": [
            "[NumericColumn(key='SepalLength', shape=(1,), default_value=None, dtype=tf.float32, normalizer_fn=None), NumericColumn(key='SepalWidth', shape=(1,), default_value=None, dtype=tf.float32, normalizer_fn=None), NumericColumn(key='PetalLength', shape=(1,), default_value=None, dtype=tf.float32, normalizer_fn=None), NumericColumn(key='PetalWidth', shape=(1,), default_value=None, dtype=tf.float32, normalizer_fn=None)]\n"
          ],
          "name": "stdout"
        }
      ]
    },
    {
      "cell_type": "markdown",
      "metadata": {
        "id": "8LyVvxGvJHp1"
      },
      "source": [
        "#Designing the Model\n",
        "\n",
        "Example models for classification\n",
        "\n",
        "*   ```DNNclassifier```\n",
        "*   ```LinearClassifier```\n",
        "\n",
        "A deep neural network (DNN) is more effective because there is no guarantee of a linear relation\n"
      ]
    },
    {
      "cell_type": "code",
      "metadata": {
        "id": "W3vCkdETJHUV",
        "colab": {
          "base_uri": "https://localhost:8080/"
        },
        "outputId": "3a8c808e-7cb9-49e6-f33b-3eec46040980"
      },
      "source": [
        "#build a DNN with 2 hidden layers and 30 hidden nodes + 10 hidden nodes\n",
        "classifier = tf.estimator.DNNClassifier(\n",
        "    feature_columns = my_feature_columns,\n",
        "    #two hidden layers of 30+10 hidden nodes\n",
        "    hidden_units = [30,10],\n",
        "    #the model has to choose between 3 classes\n",
        "    n_classes = 3)"
      ],
      "execution_count": 65,
      "outputs": [
        {
          "output_type": "stream",
          "text": [
            "INFO:tensorflow:Using default config.\n",
            "WARNING:tensorflow:Using temporary folder as model directory: /tmp/tmpgexsh1zi\n",
            "INFO:tensorflow:Using config: {'_model_dir': '/tmp/tmpgexsh1zi', '_tf_random_seed': None, '_save_summary_steps': 100, '_save_checkpoints_steps': None, '_save_checkpoints_secs': 600, '_session_config': allow_soft_placement: true\n",
            "graph_options {\n",
            "  rewrite_options {\n",
            "    meta_optimizer_iterations: ONE\n",
            "  }\n",
            "}\n",
            ", '_keep_checkpoint_max': 5, '_keep_checkpoint_every_n_hours': 10000, '_log_step_count_steps': 100, '_train_distribute': None, '_device_fn': None, '_protocol': None, '_eval_distribute': None, '_experimental_distribute': None, '_experimental_max_worker_delay_secs': None, '_session_creation_timeout_secs': 7200, '_checkpoint_save_graph_def': True, '_service': None, '_cluster_spec': ClusterSpec({}), '_task_type': 'worker', '_task_id': 0, '_global_id_in_cluster': 0, '_master': '', '_evaluation_master': '', '_is_chief': True, '_num_ps_replicas': 0, '_num_worker_replicas': 1}\n"
          ],
          "name": "stdout"
        }
      ]
    },
    {
      "cell_type": "code",
      "metadata": {
        "id": "Qbqdxdub_oNc",
        "colab": {
          "base_uri": "https://localhost:8080/"
        },
        "outputId": "473613de-f52d-47a2-9b43-b8617f5aff26"
      },
      "source": [
        "#train the model\n",
        "classifier.train(\n",
        "    input_fn = lambda: input_fn(train,train_y,training=True), \n",
        "    steps=5000)"
      ],
      "execution_count": 66,
      "outputs": [
        {
          "output_type": "stream",
          "text": [
            "INFO:tensorflow:Calling model_fn.\n",
            "INFO:tensorflow:Done calling model_fn.\n",
            "INFO:tensorflow:Create CheckpointSaverHook.\n",
            "INFO:tensorflow:Graph was finalized.\n",
            "INFO:tensorflow:Running local_init_op.\n",
            "INFO:tensorflow:Done running local_init_op.\n",
            "INFO:tensorflow:Calling checkpoint listeners before saving checkpoint 0...\n",
            "INFO:tensorflow:Saving checkpoints for 0 into /tmp/tmpgexsh1zi/model.ckpt.\n",
            "INFO:tensorflow:Calling checkpoint listeners after saving checkpoint 0...\n",
            "INFO:tensorflow:loss = 1.1698046, step = 0\n",
            "INFO:tensorflow:global_step/sec: 273.83\n",
            "INFO:tensorflow:loss = 1.0654875, step = 100 (0.368 sec)\n",
            "INFO:tensorflow:global_step/sec: 359.427\n",
            "INFO:tensorflow:loss = 1.0491428, step = 200 (0.280 sec)\n",
            "INFO:tensorflow:global_step/sec: 358.464\n",
            "INFO:tensorflow:loss = 1.0210862, step = 300 (0.285 sec)\n",
            "INFO:tensorflow:global_step/sec: 399.407\n",
            "INFO:tensorflow:loss = 0.9893937, step = 400 (0.249 sec)\n",
            "INFO:tensorflow:global_step/sec: 392.684\n",
            "INFO:tensorflow:loss = 0.9787017, step = 500 (0.250 sec)\n",
            "INFO:tensorflow:global_step/sec: 421.366\n",
            "INFO:tensorflow:loss = 0.9739914, step = 600 (0.236 sec)\n",
            "INFO:tensorflow:global_step/sec: 403.496\n",
            "INFO:tensorflow:loss = 0.9527887, step = 700 (0.253 sec)\n",
            "INFO:tensorflow:global_step/sec: 408.953\n",
            "INFO:tensorflow:loss = 0.9415871, step = 800 (0.241 sec)\n",
            "INFO:tensorflow:global_step/sec: 421.619\n",
            "INFO:tensorflow:loss = 0.94019276, step = 900 (0.239 sec)\n",
            "INFO:tensorflow:global_step/sec: 362.111\n",
            "INFO:tensorflow:loss = 0.91976094, step = 1000 (0.274 sec)\n",
            "INFO:tensorflow:global_step/sec: 384.021\n",
            "INFO:tensorflow:loss = 0.91317064, step = 1100 (0.265 sec)\n",
            "INFO:tensorflow:global_step/sec: 433.449\n",
            "INFO:tensorflow:loss = 0.90864235, step = 1200 (0.226 sec)\n",
            "INFO:tensorflow:global_step/sec: 386.739\n",
            "INFO:tensorflow:loss = 0.8901158, step = 1300 (0.263 sec)\n",
            "INFO:tensorflow:global_step/sec: 445.216\n",
            "INFO:tensorflow:loss = 0.8822372, step = 1400 (0.220 sec)\n",
            "INFO:tensorflow:global_step/sec: 388.992\n",
            "INFO:tensorflow:loss = 0.8786342, step = 1500 (0.262 sec)\n",
            "INFO:tensorflow:global_step/sec: 415.929\n",
            "INFO:tensorflow:loss = 0.87554324, step = 1600 (0.240 sec)\n",
            "INFO:tensorflow:global_step/sec: 443.293\n",
            "INFO:tensorflow:loss = 0.8534276, step = 1700 (0.222 sec)\n",
            "INFO:tensorflow:global_step/sec: 416.967\n",
            "INFO:tensorflow:loss = 0.8457617, step = 1800 (0.244 sec)\n",
            "INFO:tensorflow:global_step/sec: 378.381\n",
            "INFO:tensorflow:loss = 0.842184, step = 1900 (0.263 sec)\n",
            "INFO:tensorflow:global_step/sec: 370.903\n",
            "INFO:tensorflow:loss = 0.82795393, step = 2000 (0.271 sec)\n",
            "INFO:tensorflow:global_step/sec: 437.299\n",
            "INFO:tensorflow:loss = 0.8238883, step = 2100 (0.229 sec)\n",
            "INFO:tensorflow:global_step/sec: 423.714\n",
            "INFO:tensorflow:loss = 0.80724555, step = 2200 (0.231 sec)\n",
            "INFO:tensorflow:global_step/sec: 403.601\n",
            "INFO:tensorflow:loss = 0.8189564, step = 2300 (0.254 sec)\n",
            "INFO:tensorflow:global_step/sec: 356.666\n",
            "INFO:tensorflow:loss = 0.8082384, step = 2400 (0.279 sec)\n",
            "INFO:tensorflow:global_step/sec: 394.67\n",
            "INFO:tensorflow:loss = 0.81474364, step = 2500 (0.249 sec)\n",
            "INFO:tensorflow:global_step/sec: 406.609\n",
            "INFO:tensorflow:loss = 0.79632574, step = 2600 (0.251 sec)\n",
            "INFO:tensorflow:global_step/sec: 388.643\n",
            "INFO:tensorflow:loss = 0.7963743, step = 2700 (0.252 sec)\n",
            "INFO:tensorflow:global_step/sec: 374.711\n",
            "INFO:tensorflow:loss = 0.78167176, step = 2800 (0.271 sec)\n",
            "INFO:tensorflow:global_step/sec: 404.072\n",
            "INFO:tensorflow:loss = 0.79519856, step = 2900 (0.247 sec)\n",
            "INFO:tensorflow:global_step/sec: 383.149\n",
            "INFO:tensorflow:loss = 0.7821344, step = 3000 (0.257 sec)\n",
            "INFO:tensorflow:global_step/sec: 381.777\n",
            "INFO:tensorflow:loss = 0.7733331, step = 3100 (0.265 sec)\n",
            "INFO:tensorflow:global_step/sec: 400.358\n",
            "INFO:tensorflow:loss = 0.7683181, step = 3200 (0.253 sec)\n",
            "INFO:tensorflow:global_step/sec: 390.763\n",
            "INFO:tensorflow:loss = 0.7631707, step = 3300 (0.250 sec)\n",
            "INFO:tensorflow:global_step/sec: 415.596\n",
            "INFO:tensorflow:loss = 0.7633314, step = 3400 (0.246 sec)\n",
            "INFO:tensorflow:global_step/sec: 355.817\n",
            "INFO:tensorflow:loss = 0.75598466, step = 3500 (0.277 sec)\n",
            "INFO:tensorflow:global_step/sec: 410.221\n",
            "INFO:tensorflow:loss = 0.7566969, step = 3600 (0.248 sec)\n",
            "INFO:tensorflow:global_step/sec: 438.872\n",
            "INFO:tensorflow:loss = 0.74062896, step = 3700 (0.226 sec)\n",
            "INFO:tensorflow:global_step/sec: 376.799\n",
            "INFO:tensorflow:loss = 0.7392837, step = 3800 (0.261 sec)\n",
            "INFO:tensorflow:global_step/sec: 355.351\n",
            "INFO:tensorflow:loss = 0.7352285, step = 3900 (0.287 sec)\n",
            "INFO:tensorflow:global_step/sec: 369.544\n",
            "INFO:tensorflow:loss = 0.723024, step = 4000 (0.265 sec)\n",
            "INFO:tensorflow:global_step/sec: 367.666\n",
            "INFO:tensorflow:loss = 0.7260869, step = 4100 (0.277 sec)\n",
            "INFO:tensorflow:global_step/sec: 349.433\n",
            "INFO:tensorflow:loss = 0.72326666, step = 4200 (0.284 sec)\n",
            "INFO:tensorflow:global_step/sec: 391.191\n",
            "INFO:tensorflow:loss = 0.72579557, step = 4300 (0.255 sec)\n",
            "INFO:tensorflow:global_step/sec: 407.845\n",
            "INFO:tensorflow:loss = 0.71226376, step = 4400 (0.243 sec)\n",
            "INFO:tensorflow:global_step/sec: 373.56\n",
            "INFO:tensorflow:loss = 0.71988934, step = 4500 (0.268 sec)\n",
            "INFO:tensorflow:global_step/sec: 355.954\n",
            "INFO:tensorflow:loss = 0.712083, step = 4600 (0.287 sec)\n",
            "INFO:tensorflow:global_step/sec: 362.04\n",
            "INFO:tensorflow:loss = 0.711706, step = 4700 (0.274 sec)\n",
            "INFO:tensorflow:global_step/sec: 388.995\n",
            "INFO:tensorflow:loss = 0.70642126, step = 4800 (0.259 sec)\n",
            "INFO:tensorflow:global_step/sec: 394.419\n",
            "INFO:tensorflow:loss = 0.69593984, step = 4900 (0.252 sec)\n",
            "INFO:tensorflow:Calling checkpoint listeners before saving checkpoint 5000...\n",
            "INFO:tensorflow:Saving checkpoints for 5000 into /tmp/tmpgexsh1zi/model.ckpt.\n",
            "INFO:tensorflow:Calling checkpoint listeners after saving checkpoint 5000...\n",
            "INFO:tensorflow:Loss for final step: 0.70043606.\n"
          ],
          "name": "stdout"
        },
        {
          "output_type": "execute_result",
          "data": {
            "text/plain": [
              "<tensorflow_estimator.python.estimator.canned.dnn.DNNClassifierV2 at 0x7f39f760b790>"
            ]
          },
          "metadata": {
            "tags": []
          },
          "execution_count": 66
        }
      ]
    },
    {
      "cell_type": "markdown",
      "metadata": {
        "id": "bKJ8e1ipAw-p"
      },
      "source": [
        "#Evaluate the Model"
      ]
    },
    {
      "cell_type": "code",
      "metadata": {
        "id": "FDMn0ALxAwt9",
        "colab": {
          "base_uri": "https://localhost:8080/"
        },
        "outputId": "758f77a8-a3f9-4a67-a9bd-8cb79eff6723"
      },
      "source": [
        "eval_result = classifier.evaluate(input_fn = lambda: input_fn(test, test_y, training = False))\n",
        "print(\"\\nTest set accuracy: {accuracy:0.3f}\\n\".format(**eval_result))"
      ],
      "execution_count": 67,
      "outputs": [
        {
          "output_type": "stream",
          "text": [
            "INFO:tensorflow:Calling model_fn.\n",
            "INFO:tensorflow:Done calling model_fn.\n",
            "INFO:tensorflow:Starting evaluation at 2021-07-15T05:03:09\n",
            "INFO:tensorflow:Graph was finalized.\n",
            "INFO:tensorflow:Restoring parameters from /tmp/tmpgexsh1zi/model.ckpt-5000\n",
            "INFO:tensorflow:Running local_init_op.\n",
            "INFO:tensorflow:Done running local_init_op.\n",
            "INFO:tensorflow:Inference Time : 0.27457s\n",
            "INFO:tensorflow:Finished evaluation at 2021-07-15-05:03:10\n",
            "INFO:tensorflow:Saving dict for global step 5000: accuracy = 0.475, average_loss = 0.69915617, global_step = 5000, loss = 0.69915617\n",
            "INFO:tensorflow:Saving 'checkpoint_path' summary for global step 5000: /tmp/tmpgexsh1zi/model.ckpt-5000\n",
            "\n",
            "Test set accuracy: 0.475\n",
            "\n"
          ],
          "name": "stdout"
        }
      ]
    },
    {
      "cell_type": "markdown",
      "metadata": {
        "id": "97BTVA90bDSQ"
      },
      "source": [
        "#Predictions\n",
        "\n",
        "###prediction script that analyzes inputs and finds the best flower for the description"
      ]
    },
    {
      "cell_type": "code",
      "metadata": {
        "colab": {
          "base_uri": "https://localhost:8080/"
        },
        "id": "guLTA1NpbBOA",
        "outputId": "1e5c3fff-d718-4686-ad87-2ce21e712e87"
      },
      "source": [
        "def input_fn(features, batch_size = 256):\n",
        "  #convert inputs to a dataset without labels\n",
        "  return tf.data.Dataset.from_tensor_slices(dict(features)).batch(batch_size)\n",
        "\n",
        "features = [\"SepalLength\", \"SepalWidth\", \"PetalLength\", \"PetalWidth\"]\n",
        "predict = {}\n",
        "\n",
        "print(\"Type float values for the following prompts\")\n",
        "for feature in features:\n",
        "  valid = True\n",
        "  while valid:\n",
        "    val = input(feature + \": \")\n",
        "    if not val.isdigit(): valid = False\n",
        "\n",
        "  predict[feature] = [float(val)]\n",
        "\n",
        "predictions = classifier.predict(input_fn = lambda: input_fn(predict))\n",
        "for pred_dict in predictions:\n",
        "  print(pred_dict)\n",
        "  class_id = pred_dict['class_ids'][0]\n",
        "  probability = pred_dict[\"probabilities\"][class_id]\n",
        "\n",
        "  print('prediction is \"{}\" ({:.1f}%)'.format(\n",
        "      SPECIES[class_id], 100 * probability))"
      ],
      "execution_count": 69,
      "outputs": [
        {
          "output_type": "stream",
          "text": [
            "Type numeric values for the following prompts\n",
            "SepalLength: 2\n",
            "SepalLength: 3\n",
            "SepalLength: 4\n",
            "SepalLength: 5\n",
            "SepalLength: 2.3\n",
            "SepalWidth: 2.3\n",
            "PetalLength: 3.4\n",
            "PetalWidth: 3.2\n",
            "INFO:tensorflow:Calling model_fn.\n",
            "INFO:tensorflow:Done calling model_fn.\n",
            "INFO:tensorflow:Graph was finalized.\n",
            "INFO:tensorflow:Restoring parameters from /tmp/tmpgexsh1zi/model.ckpt-5000\n",
            "INFO:tensorflow:Running local_init_op.\n",
            "INFO:tensorflow:Done running local_init_op.\n",
            "{'logits': array([-0.8201818,  0.6144736,  2.05038  ], dtype=float32), 'probabilities': array([0.04377301, 0.18376777, 0.7724592 ], dtype=float32), 'class_ids': array([2]), 'classes': array([b'2'], dtype=object), 'all_class_ids': array([0, 1, 2], dtype=int32), 'all_classes': array([b'0', b'1', b'2'], dtype=object)}\n",
            "prediction is \"Virginica\" (77.2%)\n"
          ],
          "name": "stdout"
        }
      ]
    }
  ]
}