{
  "nbformat": 4,
  "nbformat_minor": 0,
  "metadata": {
    "colab": {
      "name": "handwritten_character_detection.ipynb",
      "provenance": [],
      "toc_visible": true,
      "authorship_tag": "ABX9TyNmccRJF12dsJdnY5zXfFWq",
      "include_colab_link": true
    },
    "kernelspec": {
      "name": "python3",
      "display_name": "Python 3"
    },
    "language_info": {
      "name": "python"
    }
  },
  "cells": [
    {
      "cell_type": "markdown",
      "metadata": {
        "id": "view-in-github",
        "colab_type": "text"
      },
      "source": [
        "<a href=\"https://colab.research.google.com/github/AndreSlavescu/Tensorflow-Projects-and-Courses/blob/main/tensorflow-projects/handwritten_character_detection.ipynb\" target=\"_parent\"><img src=\"https://colab.research.google.com/assets/colab-badge.svg\" alt=\"Open In Colab\"/></a>"
      ]
    },
    {
      "cell_type": "markdown",
      "metadata": {
        "id": "MoOxpjnVQwbt"
      },
      "source": [
        "#Installations"
      ]
    },
    {
      "cell_type": "code",
      "metadata": {
        "colab": {
          "base_uri": "https://localhost:8080/"
        },
        "id": "NUqtPXtXQu-S",
        "outputId": "d57bec2a-1071-4e57-9d38-481283b478fc"
      },
      "source": [
        "pip install opencv-python"
      ],
      "execution_count": null,
      "outputs": [
        {
          "output_type": "stream",
          "text": [
            "Requirement already satisfied: opencv-python in /usr/local/lib/python3.7/dist-packages (4.1.2.30)\n",
            "Requirement already satisfied: numpy>=1.14.5 in /usr/local/lib/python3.7/dist-packages (from opencv-python) (1.19.5)\n"
          ],
          "name": "stdout"
        }
      ]
    },
    {
      "cell_type": "markdown",
      "metadata": {
        "id": "NcJMtHVKN58u"
      },
      "source": [
        "# Initial Setup"
      ]
    },
    {
      "cell_type": "code",
      "metadata": {
        "id": "hkS23A4HIZ-7"
      },
      "source": [
        "import cv2 #OpenCV python computer vision library\n",
        "import numpy as np #numerical python library\n",
        "import matplotlib.pyplot as mplt #mathematical plotting library\n",
        "import tensorflow as tf "
      ],
      "execution_count": null,
      "outputs": []
    },
    {
      "cell_type": "markdown",
      "metadata": {
        "id": "BRvUbOLGNHpy"
      },
      "source": [
        "# Dataset\n"
      ]
    },
    {
      "cell_type": "code",
      "metadata": {
        "colab": {
          "base_uri": "https://localhost:8080/"
        },
        "id": "-9uuEm2uA--G",
        "outputId": "cd9adb4c-09fd-4ccf-89f2-52b46d6fa746"
      },
      "source": [
        "#Handwritten digits dataset\n",
        "mnist = tf.keras.datasets.mnist\n",
        "(x_train, y_train), (x_test, y_test) = mnist.load_data()\n",
        "\n",
        "x_train = tf.keras.utils.normalize(x_train, axis = 1)\n",
        "x_test = tf.keras.utils.normalize(x_test, axis = 1)"
      ],
      "execution_count": null,
      "outputs": [
        {
          "output_type": "stream",
          "text": [
            "Downloading data from https://storage.googleapis.com/tensorflow/tf-keras-datasets/mnist.npz\n",
            "11493376/11490434 [==============================] - 0s 0us/step\n"
          ],
          "name": "stdout"
        }
      ]
    },
    {
      "cell_type": "markdown",
      "metadata": {
        "id": "SJtP3nXEOTQ2"
      },
      "source": [
        "# Model Creation\n",
        "\n"
      ]
    },
    {
      "cell_type": "code",
      "metadata": {
        "id": "QHgzzJ52NGak"
      },
      "source": [
        "model = tf.keras.models.Sequential()\n",
        "model.add(tf.keras.layers.Flatten(input_shape = (28, 28)))\n",
        "for i in range(2): #generate 2 of the same hidden layers\n",
        "  model.add(tf.keras.layers.Dense(units = 128, activation = tf.nn.relu)) #specify activation function (relu)\n",
        "model.add(tf.keras.layers.Dense(units = 10, activation = tf.nn.softmax))\n"
      ],
      "execution_count": null,
      "outputs": []
    },
    {
      "cell_type": "markdown",
      "metadata": {
        "id": "u-h4FSTbX-ju"
      },
      "source": [
        "#Model Compilation"
      ]
    },
    {
      "cell_type": "code",
      "metadata": {
        "id": "NxbXk2p7Oi-8",
        "colab": {
          "base_uri": "https://localhost:8080/"
        },
        "outputId": "da5455bd-3ce7-487a-f4c3-37518eff7772"
      },
      "source": [
        "#compiling model using the adam optimizer for stochastic gradient descent \n",
        "model.compile(optimizer = \"adam\", loss = \"sparse_categorical_crossentropy\", metrics = [\"accuracy\"]) \n",
        "model.fit(x_train, y_train, epochs = 5)\n",
        "loss, accuracy = model.evaluate(x_test, y_test)\n",
        "\n",
        "model.save(\"handwritten_digits.model\")"
      ],
      "execution_count": 21,
      "outputs": [
        {
          "output_type": "stream",
          "text": [
            "Epoch 1/5\n",
            "1875/1875 [==============================] - 5s 2ms/step - loss: 0.0101 - accuracy: 0.9966\n",
            "Epoch 2/5\n",
            "1875/1875 [==============================] - 5s 2ms/step - loss: 0.0089 - accuracy: 0.9970\n",
            "Epoch 3/5\n",
            "1875/1875 [==============================] - 5s 2ms/step - loss: 0.0066 - accuracy: 0.9976\n",
            "Epoch 4/5\n",
            "1875/1875 [==============================] - 5s 2ms/step - loss: 0.0103 - accuracy: 0.9967\n",
            "Epoch 5/5\n",
            "1875/1875 [==============================] - 5s 3ms/step - loss: 0.0066 - accuracy: 0.9982\n",
            "313/313 [==============================] - 1s 1ms/step - loss: 0.1424 - accuracy: 0.9758\n",
            "INFO:tensorflow:Assets written to: handwritten_digits.model/assets\n"
          ],
          "name": "stdout"
        }
      ]
    },
    {
      "cell_type": "code",
      "metadata": {
        "id": "DkF4xhrNdPb3",
        "colab": {
          "base_uri": "https://localhost:8080/"
        },
        "outputId": "801a876c-9f4b-4d86-93fc-c5bb9e7eb439"
      },
      "source": [
        "#print(f\"x_test: {x_test}\", f\"y_test: {y_test}\")\n",
        "print(f\"loss: {round(loss, 2)}\", f\"accuracy: {round(accuracy*100, 2)}%\")"
      ],
      "execution_count": 27,
      "outputs": [
        {
          "output_type": "stream",
          "text": [
            "loss: 0.14 accuracy: 97.58%\n"
          ],
          "name": "stdout"
        }
      ]
    },
    {
      "cell_type": "markdown",
      "metadata": {
        "id": "cr5FmVjPbeZS"
      },
      "source": [
        "#Test Images\n",
        "----\n",
        "![Digit-3](https://www.neuralnine.com/wp-content/uploads/2019/09/3.png)\n",
        "###### This digit is 3\n",
        "\n",
        "![Digit-6](https://encrypted-tbn0.gstatic.com/images?q=tbn:ANd9GcS8MVyzJ4_dJZfzzQa1E-IayHNriN4bNUUv2A&usqp=CAU)\n",
        "###### This digit is 6\n",
        "\n",
        "![Digit-4](https://miro.medium.com/max/282/1*xpszL7jJrV5UTV7Xa-fgWQ.png)\n",
        "###### This digit is 4"
      ]
    },
    {
      "cell_type": "code",
      "metadata": {
        "id": "rGdaVZo9bg3I"
      },
      "source": [
        "#load test images and predict the value of the handwritten character\n",
        "\n",
        "for i in range(1,3):\n",
        "  img = cv2.imread(f\"{i}.png\")[:,:,0]\n",
        "  img = np.invert(np.array([img]))\n",
        "  prediction = model.predict(img) #predict image value\n",
        "  print(\"index of highest value: \"+np.argmax(prediction))\n",
        "  plt.imshow(img[0], cmap = plt.cm.binary)\n",
        "  plt.show()"
      ],
      "execution_count": null,
      "outputs": []
    }
  ]
}