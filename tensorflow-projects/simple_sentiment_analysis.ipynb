{
  "nbformat": 4,
  "nbformat_minor": 0,
  "metadata": {
    "colab": {
      "name": "simple-sentiment-analysis.ipynb",
      "provenance": [],
      "authorship_tag": "ABX9TyPLFVZ4lqhIifXPMmH46p+4",
      "include_colab_link": true
    },
    "kernelspec": {
      "name": "python3",
      "display_name": "Python 3"
    },
    "language_info": {
      "name": "python"
    }
  },
  "cells": [
    {
      "cell_type": "markdown",
      "metadata": {
        "id": "view-in-github",
        "colab_type": "text"
      },
      "source": [
        "<a href=\"https://colab.research.google.com/github/AndreSlavescu/Tensorflow-Projects-and-Courses/blob/main/tensorflow-projects/simple_sentiment_analysis.ipynb\" target=\"_parent\"><img src=\"https://colab.research.google.com/assets/colab-badge.svg\" alt=\"Open In Colab\"/></a>"
      ]
    },
    {
      "cell_type": "markdown",
      "metadata": {
        "id": "NcJMtHVKN58u"
      },
      "source": [
        "# Initial Setup"
      ]
    },
    {
      "cell_type": "code",
      "metadata": {
        "id": "hkS23A4HIZ-7"
      },
      "source": [
        "pip install newspaper3k textblob nltk"
      ],
      "execution_count": null,
      "outputs": []
    },
    {
      "cell_type": "markdown",
      "metadata": {
        "id": "BRvUbOLGNHpy"
      },
      "source": [
        "# Text Parsing"
      ]
    },
    {
      "cell_type": "code",
      "metadata": {
        "colab": {
          "base_uri": "https://localhost:8080/"
        },
        "id": "-9uuEm2uA--G",
        "outputId": "cadf191e-3ddd-45bf-be30-4ff0cb695c70"
      },
      "source": [
        "from textblob import TextBlob \n",
        "from newspaper import Article \n",
        "import nltk\n",
        "nltk.download('punkt')\n",
        "\n",
        "\n",
        "url = \"https://en.wikipedia.org/wiki/Waterloo,_Ontario\"\n",
        "\n",
        "article = Article(url)\n",
        "\n",
        "article.download()\n",
        "article.parse()\n",
        "article.nlp()\n",
        "\n",
        "text = article.summary\n",
        "print(text)"
      ],
      "execution_count": 10,
      "outputs": [
        {
          "output_type": "stream",
          "text": [
            "[nltk_data] Downloading package punkt to /root/nltk_data...\n",
            "[nltk_data]   Unzipping tokenizers/punkt.zip.\n",
            "[33]Largest employers in the city of Waterloo [ edit ]The largest employers in the city of Waterloo are:[34]Arts and culture [ edit ]Events and festivals [ edit ]Attractions [ edit ]Waterloo is home to several notable tourist attractions and areas of interest.\n",
            "Waterloo was part of Waterloo County, Ontario until 1973 when a restructuring created the Regional Municipality of Waterloo, (often referred to as Waterloo Region or the Region of Waterloo), which consists of the cities of Waterloo, Kitchener, and Cambridge, and the townships of Woolwich, Wilmot, Wellesley, and North Dumfries.\n",
            "[44]Infrastructure [ edit ]Transportation [ edit ]Waterloo as seen from KitchenerRoads [ edit ]The Conestoga Parkway, numbered as Highway 85 within Waterloo, connects Waterloo with Kitchener, Highway 7/8 (the continuation of the Conestoga Parkway), Ontario Highway 8, Highway 401 and Cambridge south of Highway 401.\n",
            "[53]Region of Waterloo Paramedic Services and Waterloo Fire Rescue respond to medical emergencies within the city of Waterloo.\n",
            "[64]Policing [ edit ]Waterloo Regional Police Service, the seventh-largest police service in the province of Ontario, provides general police service in the city of Waterloo.\n"
          ],
          "name": "stdout"
        }
      ]
    },
    {
      "cell_type": "markdown",
      "metadata": {
        "id": "SJtP3nXEOTQ2"
      },
      "source": [
        "# Processing and Sentiment analysis"
      ]
    },
    {
      "cell_type": "code",
      "metadata": {
        "colab": {
          "base_uri": "https://localhost:8080/"
        },
        "id": "QHgzzJ52NGak",
        "outputId": "1f8fff1d-3e84-4279-f3d4-a865f47e16b7"
      },
      "source": [
        "blob = TextBlob(text)\n",
        "sentiment = blob.sentiment.polarity # range from -1 to 1\n",
        "print(sentiment)"
      ],
      "execution_count": 13,
      "outputs": [
        {
          "output_type": "stream",
          "text": [
            "0.1375\n"
          ],
          "name": "stdout"
        }
      ]
    },
    {
      "cell_type": "code",
      "metadata": {
        "colab": {
          "base_uri": "https://localhost:8080/"
        },
        "id": "NxbXk2p7Oi-8",
        "outputId": "1d1e109c-9d2d-4360-df62-86040177f263"
      },
      "source": [
        "if sentiment < -0.5:\n",
        "  print(\"very sad\")\n",
        "elif -0.5 <= sentiment < -0.1:\n",
        "  print(\"sad\")\n",
        "elif -0.1 <= sentiment <= 0.1:\n",
        "  print(\"neutral\")\n",
        "elif 0.1 < sentiment < 0.5:\n",
        "  print(\"happy\")\n",
        "else:\n",
        "  print(\"very happy\")"
      ],
      "execution_count": 15,
      "outputs": [
        {
          "output_type": "stream",
          "text": [
            "happy\n"
          ],
          "name": "stdout"
        }
      ]
    }
  ]
}