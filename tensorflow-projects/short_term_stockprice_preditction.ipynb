{
  "nbformat": 4,
  "nbformat_minor": 0,
  "metadata": {
    "colab": {
      "name": "short-term_stockprice_preditction.ipynb",
      "provenance": [],
      "authorship_tag": "ABX9TyPCvq/C6Fa89rMcEgM1UPzC",
      "include_colab_link": true
    },
    "kernelspec": {
      "name": "python3",
      "display_name": "Python 3"
    },
    "language_info": {
      "name": "python"
    }
  },
  "cells": [
    {
      "cell_type": "markdown",
      "metadata": {
        "id": "view-in-github",
        "colab_type": "text"
      },
      "source": [
        "<a href=\"https://colab.research.google.com/github/AndreSlavescu/Tensorflow-Projects-and-Courses/blob/main/tensorflow-projects/short_term_stockprice_preditction.ipynb\" target=\"_parent\"><img src=\"https://colab.research.google.com/assets/colab-badge.svg\" alt=\"Open In Colab\"/></a>"
      ]
    },
    {
      "cell_type": "markdown",
      "metadata": {
        "id": "yN9em3N206tg"
      },
      "source": [
        "# Installations"
      ]
    },
    {
      "cell_type": "code",
      "metadata": {
        "id": "cztBJeSX0cnz"
      },
      "source": [
        "pip install pandas pandas-datareader scikit-learn yfinance"
      ],
      "execution_count": null,
      "outputs": []
    },
    {
      "cell_type": "markdown",
      "metadata": {
        "id": "urz9GQWr0_5p"
      },
      "source": [
        "# Imports and Setup"
      ]
    },
    {
      "cell_type": "code",
      "metadata": {
        "id": "z-hLZFBI06OJ"
      },
      "source": [
        "import numpy as np\n",
        "import matplotlib.pyplot as plt\n",
        "import pandas as pd \n",
        "import pandas_datareader.data as pdr\n",
        "from datetime import datetime as dt\n",
        "from sklearn.preprocessing import MinMaxScaler\n",
        "from tensorflow.keras.models import Sequential \n",
        "from tensorflow.keras.layers import Dense, Dropout, LSTM"
      ],
      "execution_count": null,
      "outputs": []
    },
    {
      "cell_type": "markdown",
      "metadata": {
        "id": "dvlykC482MnI"
      },
      "source": [
        "# Load Stock Data\n"
      ]
    },
    {
      "cell_type": "code",
      "metadata": {
        "id": "0ev8Bzfs2M4G"
      },
      "source": [
        "# specificy start and end dates for training data\n",
        "tickers = input(\"enter company ticker symbol: \")\n",
        "start = dt(2012,1,1)\n",
        "end = dt(2021,1,1)\n",
        "\n",
        "# get data from yahoo finance using the yahoo finance api\n",
        "data = pdr.DataReader(tickers, \"yahoo\", start, end)"
      ],
      "execution_count": null,
      "outputs": []
    },
    {
      "cell_type": "markdown",
      "metadata": {
        "id": "_H878ERWFGHh"
      },
      "source": [
        "# Setup datat for Neural Network"
      ]
    },
    {
      "cell_type": "code",
      "metadata": {
        "id": "wn-R2mfAFEpX"
      },
      "source": [
        "scaler = MinMaxScaler(feature_range=(0,1)) # compress stock price in a range from 0-1\n",
        "scaled_data = scaler.fit_transform(data[\"Adj Close\"].values.reshape(-1,1)) # only look at closing prices \n",
        "\n",
        "# define how many days you want to look into the past\n",
        "pred_days = int(input(\"prediction days: \")) #specify prediction days\n",
        "\n",
        "# prepare training data\n",
        "x_train = []\n",
        "y_train = []\n",
        "\n",
        "for i in range(pred_days, len(scaled_data)):\n",
        "  x_train.append(scaled_data[i-pred_days:i, 0]) # get next value so model can learn to predict the next day's value\n",
        "  y_train.append[scaled_data[i, 0]]\n",
        "\n",
        "x_train, y_train = np.array(x_train), np.array(y_train) # convert to numpy array\n",
        "\n",
        "x_train = np.reshape(x_train, (x_train.shape[0], x_train.shape[1], 1)) "
      ],
      "execution_count": null,
      "outputs": []
    },
    {
      "cell_type": "markdown",
      "metadata": {
        "id": "e_T712muWWoj"
      },
      "source": [
        "# Create the Model"
      ]
    },
    {
      "cell_type": "code",
      "metadata": {
        "id": "M2DkDBaFWYyr"
      },
      "source": [
        "# create simple neural network\n",
        "model = Sequential()\n",
        "\n",
        "# specify layers - add LSTM and dropout layers\n",
        "model.add(LSTM(units = 50, return_sequences = True, input_shape=(x_train.shape[1], 1))) # return data not just feed\n",
        "model.add(Dropout(0.2))\n",
        "model.add(LSTM(units = 50, return_sequences = True))\n",
        "model.add(Dropout(0.2))\n",
        "model.add(LSTM(units = 50))\n",
        "model.add(Dropout(0.2))\n",
        "# final layer is one unit which is the stock price prediction\n",
        "model.add(Dense(units = 1))"
      ],
      "execution_count": null,
      "outputs": []
    },
    {
      "cell_type": "markdown",
      "metadata": {
        "id": "-RiF17pTD94K"
      },
      "source": [
        "# Model Compilation"
      ]
    },
    {
      "cell_type": "code",
      "metadata": {
        "id": "qkZiSmJdD_68"
      },
      "source": [
        "model.compile(optimizer = \"adam\", loss = \"mean_squared_error\")\n",
        "\n",
        "# fit the model\n",
        "model.fit(x_train, y_train, epochs = 15, batche_size = 32)\n",
        "\n",
        "model.save()"
      ],
      "execution_count": null,
      "outputs": []
    },
    {
      "cell_type": "markdown",
      "metadata": {
        "id": "XdXLM4JcE6ag"
      },
      "source": [
        "# Test Model Accuracy"
      ]
    },
    {
      "cell_type": "code",
      "metadata": {
        "id": "j8rCwp55E_cJ"
      },
      "source": [
        "# Load the test data \n",
        "test_start = dt.datetime(2021, 1, 1)\n",
        "test_end = dt.datetime()\n",
        "\n",
        "test_data = pdd.DataReader(company, \"yahoo\", test_start, test_end) # get test data for selected company\n",
        "real_prices = test_data[\"Close\"].values # collect real closing prices of the chosen stock\n",
        "\n",
        "total_dataset = pd.concat((data[\"Close\"], test_data[\"Close\"]), axis = 0)\n",
        "\n",
        "model_inputs = total_dataset[len(total_dataset)] - len(test_data) - pred_days:].values\n",
        "model_inputs = model_inputs.reshape(-1, 1)\n",
        "model_inputs = scaler.transform(model_inputs)"
      ],
      "execution_count": null,
      "outputs": []
    },
    {
      "cell_type": "markdown",
      "metadata": {
        "id": "KUrG5cq16mr6"
      },
      "source": [
        "# Predictions on Test Data"
      ]
    },
    {
      "cell_type": "code",
      "metadata": {
        "id": "gMpKosS06mKU"
      },
      "source": [
        "x_testing = []\n",
        "\n",
        "for i in range(pred_days, len(model_inputs)):\n",
        "  x_testing.append(model_inputs[x-pred_days:x, 0])\n",
        "\n",
        "x_testing = np.array(x_testing)\n",
        "x_testing = np.reshape(x_testing, (x_testing.shape[0], x_testing.shape[1]), 1)\n",
        "\n",
        "predictions = model.predict(x_testing)\n",
        "predictions = scaler.invers_transform(predictions)"
      ],
      "execution_count": null,
      "outputs": []
    },
    {
      "cell_type": "markdown",
      "metadata": {
        "id": "sTg12I31oVU7"
      },
      "source": [
        "# Plot Test Predictions"
      ]
    },
    {
      "cell_type": "code",
      "metadata": {
        "id": "-b3Dt3iWoXi1"
      },
      "source": [
        "plt.plot(actual_prices, color = \"blue\", label = f\"Actual Share Price for {company}\")\n",
        "plt.plot(predictions, color = \"red\", label = f\"Predicted Share Price for {company}\")\n",
        "plt.title(f\"{company} Share Price\")\n",
        "plt.xlabel(\"Variation over time\")\n",
        "plt.ylabel(f\"{company} Share Price\")\n",
        "plt.legend()\n",
        "plt.show()"
      ],
      "execution_count": null,
      "outputs": []
    }
  ]
}